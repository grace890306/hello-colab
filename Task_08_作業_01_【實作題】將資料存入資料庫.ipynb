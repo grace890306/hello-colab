{
  "nbformat": 4,
  "nbformat_minor": 0,
  "metadata": {
    "colab": {
      "provenance": [],
      "authorship_tag": "ABX9TyOfBDpHlTxuEYiWXGIsNILB",
      "include_colab_link": true
    },
    "kernelspec": {
      "name": "python3",
      "display_name": "Python 3"
    },
    "language_info": {
      "name": "python"
    }
  },
  "cells": [
    {
      "cell_type": "markdown",
      "metadata": {
        "id": "view-in-github",
        "colab_type": "text"
      },
      "source": [
        "<a href=\"https://colab.research.google.com/github/grace890306/hello-colab/blob/main/Task_08_%E4%BD%9C%E6%A5%AD_01_%E3%80%90%E5%AF%A6%E4%BD%9C%E9%A1%8C%E3%80%91%E5%B0%87%E8%B3%87%E6%96%99%E5%AD%98%E5%85%A5%E8%B3%87%E6%96%99%E5%BA%AB.ipynb\" target=\"_parent\"><img src=\"https://colab.research.google.com/assets/colab-badge.svg\" alt=\"Open In Colab\"/></a>"
      ]
    },
    {
      "cell_type": "markdown",
      "source": [
        "Q:請問將結果 (A) 維持在 Python 程式碼執行環境中 (B) 存成一個 .csv 檔案 (C) 放入資料庫當中，這三種保存資料的方法有什麼不同？\n",
        "\n",
        "A:\n",
        "(A)維持在 Python 程式碼執行環境中：資料僅在程式執行期間存在於記憶體中。這種方式適用於只需要暫\n",
        "時保存資料並在當前程式中使用的情況。資料在程式執行結束後將會丟失。\n",
        "(B)存成一個 .csv 檔案：資料以逗號分隔的形式保存在文本文件中。這種格式簡單且易於使用，可以被許多不同的軟體和工具所讀取和處理。這種方式適用於需要與其他應用程式進行資料交換，或者需要永久保存資料以便在不同的場合使用的情況。\n",
        "(C)放入資料庫當中：資料存儲在資料庫表格中，可以使用 SQL 查詢來查詢、更新和管理資料。這種方式適用於需要長期保存和管理大量資料的情況，資料庫提供了更強大的資料組織和查詢功能，並且可以處理更大量的資料。"
      ],
      "metadata": {
        "id": "1lq2JOh0k-2l"
      }
    },
    {
      "cell_type": "code",
      "execution_count": 1,
      "metadata": {
        "id": "uv-cer-_jIMy",
        "colab": {
          "base_uri": "https://localhost:8080/"
        },
        "outputId": "80942104-d8fc-47ca-f0c3-9832c6b23bf2"
      },
      "outputs": [
        {
          "output_type": "stream",
          "name": "stdout",
          "text": [
            "INSERT INTO stocks VALUES ('臺北市', 340, '2024-04-09 16:00:32.627535')\n",
            "INSERT INTO stocks VALUES ('高雄市', 424, '2024-04-09 16:00:32.660819')\n",
            "INSERT INTO stocks VALUES ('臺中市', 436, '2024-04-09 16:00:32.676478')\n",
            "INSERT INTO stocks VALUES ('臺南市', 280, '2024-04-09 16:00:32.692537')\n",
            "INSERT INTO stocks VALUES ('基隆市', 57, '2024-04-09 16:00:32.708923')\n",
            "INSERT INTO stocks VALUES ('新竹市', 39, '2024-04-09 16:00:32.728486')\n",
            "INSERT INTO stocks VALUES ('嘉義市', 67, '2024-04-09 16:00:32.745029')\n",
            "INSERT INTO stocks VALUES ('新北市', 507, '2024-04-09 16:00:32.760300')\n",
            "INSERT INTO stocks VALUES ('桃園市', 271, '2024-04-09 16:00:32.779597')\n",
            "INSERT INTO stocks VALUES ('新竹縣', 48, '2024-04-09 16:00:32.796807')\n",
            "INSERT INTO stocks VALUES ('宜蘭縣', 76, '2024-04-09 16:00:32.811914')\n",
            "INSERT INTO stocks VALUES ('苗栗縣', 57, '2024-04-09 16:00:32.828996')\n",
            "INSERT INTO stocks VALUES ('彰化縣', 181, '2024-04-09 16:00:32.847860')\n",
            "INSERT INTO stocks VALUES ('南投縣', 67, '2024-04-09 16:00:32.864136')\n",
            "INSERT INTO stocks VALUES ('雲林縣', 131, '2024-04-09 16:00:32.880666')\n",
            "INSERT INTO stocks VALUES ('嘉義縣', 84, '2024-04-09 16:00:32.891836')\n",
            "INSERT INTO stocks VALUES ('屏東縣', 140, '2024-04-09 16:00:32.907709')\n",
            "INSERT INTO stocks VALUES ('澎湖縣', 11, '2024-04-09 16:00:32.922834')\n",
            "INSERT INTO stocks VALUES ('花蓮縣', 47, '2024-04-09 16:00:32.942885')\n",
            "INSERT INTO stocks VALUES ('臺東縣', 23, '2024-04-09 16:00:32.959203')\n",
            "INSERT INTO stocks VALUES ('金門縣', 6, '2024-04-09 16:00:32.976412')\n",
            "INSERT INTO stocks VALUES ('連江縣', 1, '2024-04-09 16:00:32.994758')\n",
            "[('臺北市', '340', '2024-04-09 16:00:32.627535'), ('高雄市', '424', '2024-04-09 16:00:32.660819'), ('臺中市', '436', '2024-04-09 16:00:32.676478'), ('臺南市', '280', '2024-04-09 16:00:32.692537'), ('基隆市', '57', '2024-04-09 16:00:32.708923'), ('新竹市', '39', '2024-04-09 16:00:32.728486'), ('嘉義市', '67', '2024-04-09 16:00:32.745029'), ('新北市', '507', '2024-04-09 16:00:32.760300'), ('桃園市', '271', '2024-04-09 16:00:32.779597'), ('新竹縣', '48', '2024-04-09 16:00:32.796807'), ('宜蘭縣', '76', '2024-04-09 16:00:32.811914'), ('苗栗縣', '57', '2024-04-09 16:00:32.828996'), ('彰化縣', '181', '2024-04-09 16:00:32.847860'), ('南投縣', '67', '2024-04-09 16:00:32.864136'), ('雲林縣', '131', '2024-04-09 16:00:32.880666'), ('嘉義縣', '84', '2024-04-09 16:00:32.891836'), ('屏東縣', '140', '2024-04-09 16:00:32.907709'), ('澎湖縣', '11', '2024-04-09 16:00:32.922834'), ('花蓮縣', '47', '2024-04-09 16:00:32.942885'), ('臺東縣', '23', '2024-04-09 16:00:32.959203'), ('金門縣', '6', '2024-04-09 16:00:32.976412'), ('連江縣', '1', '2024-04-09 16:00:32.994758')]\n"
          ]
        }
      ],
      "source": [
        "import sqlite3\n",
        "import datetime\n",
        "import requests\n",
        "import json\n",
        "\n",
        "conn = sqlite3.connect('example.db')\n",
        "c = conn.cursor()\n",
        "\n",
        "# 藥局數量，新增且清空資料表\n",
        "c.execute('''CREATE TABLE IF NOT EXISTS pharmacies\n",
        "             (city text, counts text, createdAt datetime)''')   #如果 pharmacies 資料表不存在，則創建它，並且該資料表包含三個欄位：city、counts和 createdAt\n",
        "c.execute('''DELETE FROM pharmacies''') #以防萬一，清空該資料表的所有資料\n",
        "conn.commit()\n",
        "\n",
        "# 新增資料(貼7-1的code)\n",
        "url = 'https://raw.githubusercontent.com/kiang/pharmacies/master/json/points.json'\n",
        "response = requests.get(url)\n",
        "data = json.loads(response.text)\n",
        "\n",
        "# 計算各地區藥局數量by address，解決少許資料沒有county之漏洞\n",
        "med_count_address = {}\n",
        "for d in data['features']:\n",
        "    county = d['properties']['address'][:3]\n",
        "    if county not in med_count_address:\n",
        "         med_count_address[county] = 0\n",
        "    med_count_address[county] += 1\n",
        "\n",
        "for m in med_count_address.items():\n",
        "  county=m[0]\n",
        "  counts=m[1]\n",
        "  t = datetime.datetime.now()\n",
        "  print(f\"INSERT INTO stocks VALUES ('{county}', {counts}, '{t}')\")\n",
        "  c.execute(f\"INSERT INTO pharmacies VALUES ('{county}', {counts}, '{t}')\")\n",
        "  conn.commit()\n",
        "\n",
        "# 查詢資料\n",
        "c.execute(\"SELECT * FROM pharmacies\")\n",
        "print(c.fetchall()) #fetchone()為印出第一筆\n",
        "\n",
        "conn.commit()\n",
        "conn.close()"
      ]
    },
    {
      "cell_type": "code",
      "source": [
        "conn = sqlite3.connect('example.db')\n",
        "c = conn.cursor()\n",
        "\n",
        "# 新增且清空資料表\n",
        "c.execute('''CREATE TABLE IF NOT EXISTS masks\n",
        "             (city text, mask text, createdAt datetime)''')\n",
        "c.execute('''DELETE FROM masks''')\n",
        "conn.commit()\n",
        "\n",
        "# 新增資料(貼7-1的code)\n",
        "# 計算出每個地區的成人剩餘口罩數量，並且將結果從大到小排列\n",
        "mask_count_address = {}\n",
        "\n",
        "for d in data['features']:\n",
        "    county = d['properties']['address'][:3]\n",
        "    if county not in mask_count_address:\n",
        "         mask_count_address[county] = 0\n",
        "    mask_adult = d['properties']['mask_adult']\n",
        "    mask_count_address[county] += mask_adult\n",
        "# 將結果從大到小排列\n",
        "mask_count_address = dict(sorted(mask_count_address.items(),reverse=True,key=lambda item: item[1]))\n",
        "#dictionary本身不可迭代（不能排序），但可以針對dictionary的key or value or item(both)進行排序\n",
        "#sorted(mask_count_address.items()後會變成包含tuple的list，所以外面要再包個dict轉回字典\n",
        "\n",
        "for m in mask_count_address.items():\n",
        "  county=m[0]\n",
        "  counts=m[1]\n",
        "  t = datetime.datetime.now()\n",
        "  c.execute(f\"INSERT INTO masks VALUES ('{county}', {counts}, '{t}')\")\n",
        "  conn.commit()\n",
        "\n",
        "# 查詢資料\n",
        "c.execute(\"SELECT * FROM pharmacies\")\n",
        "print(c.fetchall()) #fetchone()為印出第一筆\n",
        "\n",
        "conn.commit()\n",
        "conn.close()"
      ],
      "metadata": {
        "colab": {
          "base_uri": "https://localhost:8080/"
        },
        "id": "AOfO2lgdloUc",
        "outputId": "75cc66a3-fee1-4460-b787-cabb5624ca0d"
      },
      "execution_count": 2,
      "outputs": [
        {
          "output_type": "stream",
          "name": "stdout",
          "text": [
            "[('臺北市', '340', '2024-04-09 16:00:32.627535'), ('高雄市', '424', '2024-04-09 16:00:32.660819'), ('臺中市', '436', '2024-04-09 16:00:32.676478'), ('臺南市', '280', '2024-04-09 16:00:32.692537'), ('基隆市', '57', '2024-04-09 16:00:32.708923'), ('新竹市', '39', '2024-04-09 16:00:32.728486'), ('嘉義市', '67', '2024-04-09 16:00:32.745029'), ('新北市', '507', '2024-04-09 16:00:32.760300'), ('桃園市', '271', '2024-04-09 16:00:32.779597'), ('新竹縣', '48', '2024-04-09 16:00:32.796807'), ('宜蘭縣', '76', '2024-04-09 16:00:32.811914'), ('苗栗縣', '57', '2024-04-09 16:00:32.828996'), ('彰化縣', '181', '2024-04-09 16:00:32.847860'), ('南投縣', '67', '2024-04-09 16:00:32.864136'), ('雲林縣', '131', '2024-04-09 16:00:32.880666'), ('嘉義縣', '84', '2024-04-09 16:00:32.891836'), ('屏東縣', '140', '2024-04-09 16:00:32.907709'), ('澎湖縣', '11', '2024-04-09 16:00:32.922834'), ('花蓮縣', '47', '2024-04-09 16:00:32.942885'), ('臺東縣', '23', '2024-04-09 16:00:32.959203'), ('金門縣', '6', '2024-04-09 16:00:32.976412'), ('連江縣', '1', '2024-04-09 16:00:32.994758')]\n"
          ]
        }
      ]
    }
  ]
}