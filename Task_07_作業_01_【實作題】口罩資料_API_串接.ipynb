{
  "nbformat": 4,
  "nbformat_minor": 0,
  "metadata": {
    "colab": {
      "provenance": [],
      "authorship_tag": "ABX9TyNoUopBtsALQ7jPBCQrcBQ6",
      "include_colab_link": true
    },
    "kernelspec": {
      "name": "python3",
      "display_name": "Python 3"
    },
    "language_info": {
      "name": "python"
    }
  },
  "cells": [
    {
      "cell_type": "markdown",
      "metadata": {
        "id": "view-in-github",
        "colab_type": "text"
      },
      "source": [
        "<a href=\"https://colab.research.google.com/github/grace890306/hello-colab/blob/main/Task_07_%E4%BD%9C%E6%A5%AD_01_%E3%80%90%E5%AF%A6%E4%BD%9C%E9%A1%8C%E3%80%91%E5%8F%A3%E7%BD%A9%E8%B3%87%E6%96%99_API_%E4%B8%B2%E6%8E%A5.ipynb\" target=\"_parent\"><img src=\"https://colab.research.google.com/assets/colab-badge.svg\" alt=\"Open In Colab\"/></a>"
      ]
    },
    {
      "cell_type": "markdown",
      "source": [
        "Q:首先試著直接用瀏覽器打開網址，請解釋這個 API 中有哪些資料？這樣資料會想到什麼樣的應用呢？\n",
        "（Hint：瀏覽器預設打開會是純文字格式，若你使用 Google Chrome 可以安裝 JSONView 擴充工具美化內容）\n",
        "\n",
        "A:(1)藥局地址、藥局營業時間、資訊更新時間。\n",
        "  (2)搜尋特定時間有哪幾間藥局營業、搜尋特定區域有哪幾間藥局"
      ],
      "metadata": {
        "id": "dYKFwN5znRYn"
      }
    },
    {
      "cell_type": "code",
      "source": [
        "import requests\n",
        "import json\n",
        "\n",
        "url = 'https://raw.githubusercontent.com/kiang/pharmacies/master/json/points.json'\n",
        "response = requests.get(url)\n",
        "\n",
        "data = json.loads(response.text)\n",
        "\n",
        "#from pprint import pprint #解除colab對於print(...) 的保護機制，避免你印出太長的東西佔用了記憶體\n",
        "#pprint(data)\n",
        "\n",
        "# 計算各地區藥局數量by address，解決少許資料沒有county之漏洞\n",
        "med_count_address = {}\n",
        "\n",
        "for d in data['features']:\n",
        "    county = d['properties']['address'][:3]\n",
        "    if county not in med_count_address:\n",
        "         med_count_address[county] = 0\n",
        "    med_count_address[county] += 1\n",
        "\n",
        "print(med_count_address)\n",
        "\n",
        "# 計算出每個地區的成人剩餘口罩數量，並且將結果從大到小排列\n",
        "mask_count_address = {}\n",
        "\n",
        "for d in data['features']:\n",
        "    county = d['properties']['address'][:3]\n",
        "    if county not in mask_count_address:\n",
        "         mask_count_address[county] = 0\n",
        "    mask_adult = d['properties']['mask_adult']\n",
        "    mask_count_address[county] += mask_adult\n",
        "# 將結果從大到小排列\n",
        "mask_count_address = dict(sorted(mask_count_address.items(),reverse=True,key=lambda item: item[1]))\n",
        "#dictionary本身不可迭代（不能排序），但可以針對dictionary的key or value or item(both)進行排序\n",
        "#sorted(mask_count_address.items()後會變成包含tuple的list，所以外面要再包個dict轉回字典\n",
        "print(mask_count_address)"
      ],
      "metadata": {
        "colab": {
          "base_uri": "https://localhost:8080/"
        },
        "id": "G7cy_npinV9F",
        "outputId": "11500e56-6610-4788-d35c-0ac547e4680a"
      },
      "execution_count": null,
      "outputs": [
        {
          "output_type": "stream",
          "name": "stdout",
          "text": [
            "{'臺北市': 340, '高雄市': 424, '臺中市': 436, '臺南市': 280, '基隆市': 57, '新竹市': 39, '嘉義市': 67, '新北市': 507, '桃園市': 271, '新竹縣': 48, '宜蘭縣': 76, '苗栗縣': 57, '彰化縣': 181, '南投縣': 67, '雲林縣': 131, '嘉義縣': 84, '屏東縣': 140, '澎湖縣': 11, '花蓮縣': 47, '臺東縣': 23, '金門縣': 6, '連江縣': 1}\n",
            "{'新北市': 677660, '臺中市': 556440, '高雄市': 428940, '臺南市': 408400, '桃園市': 345600, '臺北市': 323660, '彰化縣': 219400, '雲林縣': 199470, '屏東縣': 184250, '苗栗縣': 134180, '嘉義縣': 113180, '嘉義市': 107840, '宜蘭縣': 106900, '南投縣': 91240, '基隆市': 80100, '花蓮縣': 57330, '新竹縣': 53760, '新竹市': 45630, '臺東縣': 28510, '金門縣': 15510, '澎湖縣': 12600, '連江縣': 7930}\n"
          ]
        }
      ]
    }
  ]
}